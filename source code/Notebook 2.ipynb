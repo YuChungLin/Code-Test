{
 "cells": [
  {
   "cell_type": "markdown",
   "id": "current-crisis",
   "metadata": {},
   "source": [
    "# NLP With Machine Learning"
   ]
  },
  {
   "cell_type": "code",
   "execution_count": 191,
   "id": "virgin-constitutional",
   "metadata": {},
   "outputs": [],
   "source": [
    "#import Libararies\n",
    "import pandas as pd\n",
    "from sklearn import preprocessing\n",
    "from sklearn.model_selection import train_test_split\n",
    "from sklearn.neural_network import MLPClassifier\n",
    "from sklearn.feature_extraction.text import CountVectorizer\n",
    "from sklearn.feature_extraction.text import TfidfTransformer\n",
    "from sklearn import metrics\n",
    "from sklearn.metrics import accuracy_score"
   ]
  },
  {
   "cell_type": "code",
   "execution_count": 192,
   "id": "cheap-indication",
   "metadata": {},
   "outputs": [],
   "source": [
    "# Read text file of words\n",
    "\n",
    "FILE = '../data/terms_conditions.txt'\n",
    "with open(FILE, encoding = \"utf8\") as f:\n",
    "    clauses = f.readlines()"
   ]
  },
  {
   "cell_type": "markdown",
   "id": "fresh-seeking",
   "metadata": {},
   "source": [
    "## More Preprocessing before ML"
   ]
  },
  {
   "cell_type": "code",
   "execution_count": 193,
   "id": "studied-disco",
   "metadata": {},
   "outputs": [],
   "source": [
    "\"\"\"\n",
    "    Looks through a sentence and counts how many owners or builders are in the sentence\n",
    "    \n",
    "    page: A page from text file\n",
    "    \n",
    "    returns two lists, one containing number of owners and one number of builders\n",
    "    \"\"\"\n",
    "def count_categories(page):\n",
    "    BUILDER = \"builder\"\n",
    "    OWNER = \"owner\"\n",
    "    owners = []\n",
    "    builders = []\n",
    "\n",
    "    for sentence in page:\n",
    "        owner_count = 0\n",
    "        builder_count = 0\n",
    "        owner_count = sentence.lower().count(OWNER)\n",
    "        builder_count = sentence.lower().count(BUILDER)\n",
    "        owners.append(owner_count)\n",
    "        builders.append(builder_count)\n",
    "    return owners, builders\n",
    "    "
   ]
  },
  {
   "cell_type": "code",
   "execution_count": 194,
   "id": "sharing-morris",
   "metadata": {},
   "outputs": [],
   "source": [
    "# Creating categories from the text file\n",
    "# Since the contract is between owners and builders, we will assume these two to be the categories for our ml model.\n",
    "own, build = count_categories(clauses)\n",
    "labels = [\"builder\",\"owner\"]\n",
    "df_dataset = pd.DataFrame (clauses, columns = ['sentence'])\n",
    "df_dataset[\"owner_count\"] = own\n",
    "df_dataset[\"builder_count\"] = build"
   ]
  },
  {
   "cell_type": "code",
   "execution_count": 195,
   "id": "cloudy-crazy",
   "metadata": {},
   "outputs": [
    {
     "data": {
      "text/html": [
       "<div>\n",
       "<style scoped>\n",
       "    .dataframe tbody tr th:only-of-type {\n",
       "        vertical-align: middle;\n",
       "    }\n",
       "\n",
       "    .dataframe tbody tr th {\n",
       "        vertical-align: top;\n",
       "    }\n",
       "\n",
       "    .dataframe thead th {\n",
       "        text-align: right;\n",
       "    }\n",
       "</style>\n",
       "<table border=\"1\" class=\"dataframe\">\n",
       "  <thead>\n",
       "    <tr style=\"text-align: right;\">\n",
       "      <th></th>\n",
       "      <th>sentence</th>\n",
       "      <th>owner_count</th>\n",
       "      <th>builder_count</th>\n",
       "    </tr>\n",
       "  </thead>\n",
       "  <tbody>\n",
       "    <tr>\n",
       "      <th>0</th>\n",
       "      <td>The Builder and the Owner have previously ente...</td>\n",
       "      <td>2</td>\n",
       "      <td>1</td>\n",
       "    </tr>\n",
       "    <tr>\n",
       "      <th>1</th>\n",
       "      <td>SUSPENSION OF WORKS TERMINATION BY BUILDER TER...</td>\n",
       "      <td>4</td>\n",
       "      <td>4</td>\n",
       "    </tr>\n",
       "    <tr>\n",
       "      <th>2</th>\n",
       "      <td>(Mobile): Fax: Email: +NOTE: Where the Owner i...</td>\n",
       "      <td>1</td>\n",
       "      <td>0</td>\n",
       "    </tr>\n",
       "    <tr>\n",
       "      <th>3</th>\n",
       "      <td>Insurer providing Domestic Building Insurance ...</td>\n",
       "      <td>0</td>\n",
       "      <td>1</td>\n",
       "    </tr>\n",
       "    <tr>\n",
       "      <th>4</th>\n",
       "      <td>The Owner/s are the registered proprietors of ...</td>\n",
       "      <td>2</td>\n",
       "      <td>0</td>\n",
       "    </tr>\n",
       "    <tr>\n",
       "      <th>...</th>\n",
       "      <td>...</td>\n",
       "      <td>...</td>\n",
       "      <td>...</td>\n",
       "    </tr>\n",
       "    <tr>\n",
       "      <th>269</th>\n",
       "      <td>SCHEDULE 1 – SPECIAL CONDITIONSPAGE64Owner(s) ...</td>\n",
       "      <td>1</td>\n",
       "      <td>1</td>\n",
       "    </tr>\n",
       "    <tr>\n",
       "      <th>270</th>\n",
       "      <td>SCHEDULE 3 – EXTENSION OF TIME NOTICEI hereby ...</td>\n",
       "      <td>1</td>\n",
       "      <td>0</td>\n",
       "    </tr>\n",
       "    <tr>\n",
       "      <th>271</th>\n",
       "      <td>Unforeseen requirements of the Relevant Counci...</td>\n",
       "      <td>6</td>\n",
       "      <td>8</td>\n",
       "    </tr>\n",
       "    <tr>\n",
       "      <th>272</th>\n",
       "      <td>Signature: Date:           /          /       ...</td>\n",
       "      <td>0</td>\n",
       "      <td>1</td>\n",
       "    </tr>\n",
       "    <tr>\n",
       "      <th>273</th>\n",
       "      <td>Should the Owner cancel the authority the Owne...</td>\n",
       "      <td>2</td>\n",
       "      <td>1</td>\n",
       "    </tr>\n",
       "  </tbody>\n",
       "</table>\n",
       "<p>274 rows × 3 columns</p>\n",
       "</div>"
      ],
      "text/plain": [
       "                                              sentence  owner_count  \\\n",
       "0    The Builder and the Owner have previously ente...            2   \n",
       "1    SUSPENSION OF WORKS TERMINATION BY BUILDER TER...            4   \n",
       "2    (Mobile): Fax: Email: +NOTE: Where the Owner i...            1   \n",
       "3    Insurer providing Domestic Building Insurance ...            0   \n",
       "4    The Owner/s are the registered proprietors of ...            2   \n",
       "..                                                 ...          ...   \n",
       "269  SCHEDULE 1 – SPECIAL CONDITIONSPAGE64Owner(s) ...            1   \n",
       "270  SCHEDULE 3 – EXTENSION OF TIME NOTICEI hereby ...            1   \n",
       "271  Unforeseen requirements of the Relevant Counci...            6   \n",
       "272  Signature: Date:           /          /       ...            0   \n",
       "273  Should the Owner cancel the authority the Owne...            2   \n",
       "\n",
       "     builder_count  \n",
       "0                1  \n",
       "1                4  \n",
       "2                0  \n",
       "3                1  \n",
       "4                0  \n",
       "..             ...  \n",
       "269              1  \n",
       "270              0  \n",
       "271              8  \n",
       "272              1  \n",
       "273              1  \n",
       "\n",
       "[274 rows x 3 columns]"
      ]
     },
     "execution_count": 195,
     "metadata": {},
     "output_type": "execute_result"
    }
   ],
   "source": [
    "df_dataset"
   ]
  },
  {
   "cell_type": "code",
   "execution_count": 196,
   "id": "amino-lithuania",
   "metadata": {},
   "outputs": [],
   "source": [
    "\"\"\"\n",
    "    Looks through a dataframe and assigns one of three labels to each sentence. Assuming that if a sentence contains\n",
    "    more occurences of one category then it will be about that category. IF a tie, we will assume that since the contract is \n",
    "    aimed towards builders, the sentence will be directed  to the builder\n",
    "    \n",
    "    df: A pandas dataframe of sentences\n",
    "    label: List of labels\n",
    "    \n",
    "    returns a pandas dataframe with two columns, sentences and the label\n",
    "    \"\"\"\n",
    "def assign_label(df, label):\n",
    "    builders = df.query('builder_count > owner_count')\n",
    "    builders[\"label\"] = label[0]\n",
    "    owners = df.query('owner_count > builder_count')\n",
    "    owners[\"label\"] = label[1]\n",
    "    equal = df.query('builder_count == owner_count')\n",
    "    equal[\"label\"] = label[0]\n",
    "    result = pd.concat([builders,owners,equal])\n",
    "    return result"
   ]
  },
  {
   "cell_type": "code",
   "execution_count": 199,
   "id": "going-scale",
   "metadata": {},
   "outputs": [
    {
     "name": "stderr",
     "output_type": "stream",
     "text": [
      "<ipython-input-196-e7a8daaf03ad>:13: SettingWithCopyWarning: \n",
      "A value is trying to be set on a copy of a slice from a DataFrame.\n",
      "Try using .loc[row_indexer,col_indexer] = value instead\n",
      "\n",
      "See the caveats in the documentation: https://pandas.pydata.org/pandas-docs/stable/user_guide/indexing.html#returning-a-view-versus-a-copy\n",
      "  builders[\"label\"] = label[0]\n",
      "<ipython-input-196-e7a8daaf03ad>:15: SettingWithCopyWarning: \n",
      "A value is trying to be set on a copy of a slice from a DataFrame.\n",
      "Try using .loc[row_indexer,col_indexer] = value instead\n",
      "\n",
      "See the caveats in the documentation: https://pandas.pydata.org/pandas-docs/stable/user_guide/indexing.html#returning-a-view-versus-a-copy\n",
      "  owners[\"label\"] = label[1]\n",
      "<ipython-input-196-e7a8daaf03ad>:17: SettingWithCopyWarning: \n",
      "A value is trying to be set on a copy of a slice from a DataFrame.\n",
      "Try using .loc[row_indexer,col_indexer] = value instead\n",
      "\n",
      "See the caveats in the documentation: https://pandas.pydata.org/pandas-docs/stable/user_guide/indexing.html#returning-a-view-versus-a-copy\n",
      "  equal[\"label\"] = label[0]\n"
     ]
    },
    {
     "data": {
      "text/plain": [
       "builder    225\n",
       "owner       49\n",
       "Name: label, dtype: int64"
      ]
     },
     "execution_count": 199,
     "metadata": {},
     "output_type": "execute_result"
    }
   ],
   "source": [
    "new_df = assign_label(df_dataset, labels)\n",
    "new_df[\"label\"].value_counts().sort_index()"
   ]
  },
  {
   "cell_type": "code",
   "execution_count": 200,
   "id": "following-legislature",
   "metadata": {},
   "outputs": [],
   "source": [
    "#Split into train and test sets\n",
    "X_train, X_test, y_train, y_test = train_test_split(new_df[\"sentence\"], new_df[\"label\"], test_size=0.33, random_state=42)"
   ]
  },
  {
   "cell_type": "code",
   "execution_count": 201,
   "id": "clinical-basin",
   "metadata": {},
   "outputs": [],
   "source": [
    "# text preprocessing, remove stop words and vectorizersing using sklearn\n",
    "count_vect = CountVectorizer()\n",
    "X_train_count = count_vect.fit_transform(X_train)\n",
    "X_train_count.shape\n",
    "X_test_count = count_vect.transform(X_test)"
   ]
  },
  {
   "cell_type": "code",
   "execution_count": 202,
   "id": "altered-september",
   "metadata": {},
   "outputs": [],
   "source": [
    "# Apply tf transformation on train set\n",
    "tf_transformer = TfidfTransformer(use_idf=False).fit(X_train_count)\n",
    "X_train_tf = tf_transformer.transform(X_train_count)\n",
    "X_test_tf = tf_transformer.transform(X_test_count)"
   ]
  },
  {
   "cell_type": "markdown",
   "id": "solved-quest",
   "metadata": {},
   "source": [
    "## Training the Neural Network Classifier"
   ]
  },
  {
   "cell_type": "code",
   "execution_count": 203,
   "id": "framed-differential",
   "metadata": {},
   "outputs": [
    {
     "name": "stderr",
     "output_type": "stream",
     "text": [
      "c:\\users\\diggy\\appdata\\local\\programs\\python\\python39\\lib\\site-packages\\sklearn\\neural_network\\_multilayer_perceptron.py:614: ConvergenceWarning: Stochastic Optimizer: Maximum iterations (200) reached and the optimization hasn't converged yet.\n",
      "  warnings.warn(\n"
     ]
    },
    {
     "data": {
      "text/plain": [
       "0.7912087912087912"
      ]
     },
     "execution_count": 203,
     "metadata": {},
     "output_type": "execute_result"
    }
   ],
   "source": [
    "clf = MLPClassifier(random_state=42).fit(X_train_tf, y_train)\n",
    "predicted = clf.predict(X_test_tf)\n",
    "accuracy_score(y_test, predicted)"
   ]
  }
 ],
 "metadata": {
  "kernelspec": {
   "display_name": "Python 3",
   "language": "python",
   "name": "python3"
  },
  "language_info": {
   "codemirror_mode": {
    "name": "ipython",
    "version": 3
   },
   "file_extension": ".py",
   "mimetype": "text/x-python",
   "name": "python",
   "nbconvert_exporter": "python",
   "pygments_lexer": "ipython3",
   "version": "3.9.2"
  }
 },
 "nbformat": 4,
 "nbformat_minor": 5
}
