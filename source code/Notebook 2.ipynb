{
 "cells": [
  {
   "cell_type": "markdown",
   "id": "handed-landscape",
   "metadata": {},
   "source": [
    "# NLP With Machine Learning"
   ]
  },
  {
   "cell_type": "code",
   "execution_count": 229,
   "id": "anonymous-footwear",
   "metadata": {},
   "outputs": [],
   "source": [
    "#import Libararies\n",
    "import pandas as pd\n",
    "from sklearn import preprocessing\n",
    "from sklearn.model_selection import train_test_split\n",
    "from sklearn.neural_network import MLPClassifier\n",
    "from sklearn.feature_extraction.text import CountVectorizer\n",
    "from sklearn.feature_extraction.text import TfidfTransformer\n",
    "from sklearn.naive_bayes import MultinomialNB\n",
    "from sklearn import metrics\n",
    "from sklearn.metrics import accuracy_score\n",
    "from sklearn.metrics import confusion_matrix, ConfusionMatrixDisplay\n",
    "import matplotlib.pyplot as plt"
   ]
  },
  {
   "cell_type": "code",
   "execution_count": 192,
   "id": "knowing-bronze",
   "metadata": {},
   "outputs": [],
   "source": [
    "# Read text file of words\n",
    "\n",
    "FILE = '../data/terms_conditions.txt'\n",
    "with open(FILE, encoding = \"utf8\") as f:\n",
    "    clauses = f.readlines()"
   ]
  },
  {
   "cell_type": "markdown",
   "id": "environmental-eclipse",
   "metadata": {},
   "source": [
    "## More Preprocessing before ML"
   ]
  },
  {
   "cell_type": "code",
   "execution_count": 284,
   "id": "unnecessary-characterization",
   "metadata": {},
   "outputs": [],
   "source": [
    "\"\"\"\n",
    "    Looks through a sentence and counts how many owners or builders are in the sentence\n",
    "    \n",
    "    page: A page from text file\n",
    "    \n",
    "    returns two lists, one containing number of owners and one number of builders\n",
    "    \"\"\"\n",
    "def count_categories(page):\n",
    "    BUILDER = \"builder\"\n",
    "    OWNER = \"owner\"\n",
    "    owners = []\n",
    "    builders = []\n",
    "\n",
    "    for sentence in page:\n",
    "        owner_count = 0\n",
    "        builder_count = 0\n",
    "        owner_count = sentence.lower().count(OWNER)\n",
    "        builder_count = sentence.lower().count(BUILDER)\n",
    "        owners.append(owner_count)\n",
    "        builders.append(builder_count)\n",
    "    return owners, builders\n",
    "    "
   ]
  },
  {
   "cell_type": "code",
   "execution_count": 285,
   "id": "detailed-lesbian",
   "metadata": {},
   "outputs": [],
   "source": [
    "# Creating categories from the text file\n",
    "# Since the contract is between owners and builders, we will assume these two to be the categories for our ml model.\n",
    "own, build = count_categories(clauses)\n",
    "labels = [\"builder\",\"owner\", \"neither\"]\n",
    "df_dataset = pd.DataFrame (clauses, columns = ['sentence'])\n",
    "df_dataset[\"owner_count\"] = own\n",
    "df_dataset[\"builder_count\"] = build\n",
    "df_dataset[\"label\"] = \"\""
   ]
  },
  {
   "cell_type": "code",
   "execution_count": 286,
   "id": "uniform-backup",
   "metadata": {},
   "outputs": [
    {
     "data": {
      "text/html": [
       "<div>\n",
       "<style scoped>\n",
       "    .dataframe tbody tr th:only-of-type {\n",
       "        vertical-align: middle;\n",
       "    }\n",
       "\n",
       "    .dataframe tbody tr th {\n",
       "        vertical-align: top;\n",
       "    }\n",
       "\n",
       "    .dataframe thead th {\n",
       "        text-align: right;\n",
       "    }\n",
       "</style>\n",
       "<table border=\"1\" class=\"dataframe\">\n",
       "  <thead>\n",
       "    <tr style=\"text-align: right;\">\n",
       "      <th></th>\n",
       "      <th>sentence</th>\n",
       "      <th>owner_count</th>\n",
       "      <th>builder_count</th>\n",
       "      <th>label</th>\n",
       "    </tr>\n",
       "  </thead>\n",
       "  <tbody>\n",
       "    <tr>\n",
       "      <th>0</th>\n",
       "      <td>The Builder and the Owner have previously ente...</td>\n",
       "      <td>2</td>\n",
       "      <td>1</td>\n",
       "      <td></td>\n",
       "    </tr>\n",
       "    <tr>\n",
       "      <th>1</th>\n",
       "      <td>SUSPENSION OF WORKS TERMINATION BY BUILDER TER...</td>\n",
       "      <td>4</td>\n",
       "      <td>4</td>\n",
       "      <td></td>\n",
       "    </tr>\n",
       "    <tr>\n",
       "      <th>2</th>\n",
       "      <td>(Mobile): Fax: Email: +NOTE: Where the Owner i...</td>\n",
       "      <td>1</td>\n",
       "      <td>0</td>\n",
       "      <td></td>\n",
       "    </tr>\n",
       "    <tr>\n",
       "      <th>3</th>\n",
       "      <td>Insurer providing Domestic Building Insurance ...</td>\n",
       "      <td>0</td>\n",
       "      <td>1</td>\n",
       "      <td></td>\n",
       "    </tr>\n",
       "    <tr>\n",
       "      <th>4</th>\n",
       "      <td>The Owner/s are the registered proprietors of ...</td>\n",
       "      <td>2</td>\n",
       "      <td>0</td>\n",
       "      <td></td>\n",
       "    </tr>\n",
       "    <tr>\n",
       "      <th>...</th>\n",
       "      <td>...</td>\n",
       "      <td>...</td>\n",
       "      <td>...</td>\n",
       "      <td>...</td>\n",
       "    </tr>\n",
       "    <tr>\n",
       "      <th>269</th>\n",
       "      <td>SCHEDULE 1 – SPECIAL CONDITIONSPAGE64Owner(s) ...</td>\n",
       "      <td>1</td>\n",
       "      <td>1</td>\n",
       "      <td></td>\n",
       "    </tr>\n",
       "    <tr>\n",
       "      <th>270</th>\n",
       "      <td>SCHEDULE 3 – EXTENSION OF TIME NOTICEI hereby ...</td>\n",
       "      <td>1</td>\n",
       "      <td>0</td>\n",
       "      <td></td>\n",
       "    </tr>\n",
       "    <tr>\n",
       "      <th>271</th>\n",
       "      <td>Unforeseen requirements of the Relevant Counci...</td>\n",
       "      <td>6</td>\n",
       "      <td>8</td>\n",
       "      <td></td>\n",
       "    </tr>\n",
       "    <tr>\n",
       "      <th>272</th>\n",
       "      <td>Signature: Date:           /          /       ...</td>\n",
       "      <td>0</td>\n",
       "      <td>1</td>\n",
       "      <td></td>\n",
       "    </tr>\n",
       "    <tr>\n",
       "      <th>273</th>\n",
       "      <td>Should the Owner cancel the authority the Owne...</td>\n",
       "      <td>2</td>\n",
       "      <td>1</td>\n",
       "      <td></td>\n",
       "    </tr>\n",
       "  </tbody>\n",
       "</table>\n",
       "<p>274 rows × 4 columns</p>\n",
       "</div>"
      ],
      "text/plain": [
       "                                              sentence  owner_count  \\\n",
       "0    The Builder and the Owner have previously ente...            2   \n",
       "1    SUSPENSION OF WORKS TERMINATION BY BUILDER TER...            4   \n",
       "2    (Mobile): Fax: Email: +NOTE: Where the Owner i...            1   \n",
       "3    Insurer providing Domestic Building Insurance ...            0   \n",
       "4    The Owner/s are the registered proprietors of ...            2   \n",
       "..                                                 ...          ...   \n",
       "269  SCHEDULE 1 – SPECIAL CONDITIONSPAGE64Owner(s) ...            1   \n",
       "270  SCHEDULE 3 – EXTENSION OF TIME NOTICEI hereby ...            1   \n",
       "271  Unforeseen requirements of the Relevant Counci...            6   \n",
       "272  Signature: Date:           /          /       ...            0   \n",
       "273  Should the Owner cancel the authority the Owne...            2   \n",
       "\n",
       "     builder_count label  \n",
       "0                1        \n",
       "1                4        \n",
       "2                0        \n",
       "3                1        \n",
       "4                0        \n",
       "..             ...   ...  \n",
       "269              1        \n",
       "270              0        \n",
       "271              8        \n",
       "272              1        \n",
       "273              1        \n",
       "\n",
       "[274 rows x 4 columns]"
      ]
     },
     "execution_count": 286,
     "metadata": {},
     "output_type": "execute_result"
    }
   ],
   "source": [
    "df_dataset"
   ]
  },
  {
   "cell_type": "code",
   "execution_count": 293,
   "id": "differential-tension",
   "metadata": {},
   "outputs": [],
   "source": [
    "\"\"\"\n",
    "    Looks through a dataframe and assigns one of three labels to each sentence. Assuming that if a sentence contains\n",
    "    more occurences of one category then it will be about that category. IF a tie, we will assume that since the contract is \n",
    "    aimed towards builders, the sentence will be directed  to the builder\n",
    "    \n",
    "    df: A pandas dataframe of sentences\n",
    "    label: List of labels\n",
    "    \n",
    "    returns a pandas dataframe with two columns, sentences and the label\n",
    "    \"\"\"\n",
    "def assign_label(df, label):\n",
    "    df.loc[df[\"builder_count\"]>df[\"owner_count\"],\"label\"] = label[0]\n",
    "    df.loc[df[\"owner_count\"]>df[\"builder_count\"],\"label\"] = label[1]\n",
    "    \n",
    "    # If tie but not zero\n",
    "    \n",
    "    df.loc[((df[\"builder_count\"] == df[\"owner_count\"]) & df[\"owner_count\"] != 0),\"label\"] = label[0]\n",
    "    \n",
    "    # If neither \n",
    "    df.loc[df[\"label\"] == \"\"] = label[2]\n",
    "\n",
    "    return df"
   ]
  },
  {
   "cell_type": "code",
   "execution_count": 294,
   "id": "dated-authority",
   "metadata": {},
   "outputs": [
    {
     "data": {
      "text/plain": [
       "builder    149\n",
       "neither     76\n",
       "owner       49\n",
       "Name: label, dtype: int64"
      ]
     },
     "execution_count": 294,
     "metadata": {},
     "output_type": "execute_result"
    }
   ],
   "source": [
    "new_df = assign_label(df_dataset, labels)\n",
    "new_df[\"label\"].value_counts().sort_index()"
   ]
  },
  {
   "cell_type": "code",
   "execution_count": 295,
   "id": "paperback-finance",
   "metadata": {},
   "outputs": [
    {
     "data": {
      "image/png": "[encoded data removed]",
      "text/plain": [
       "<Figure size 432x288 with 1 Axes>"
      ]
     },
     "metadata": {
      "needs_background": "light"
     },
     "output_type": "display_data"
    }
   ],
   "source": [
    "new_df.label.value_counts().plot(kind = \"bar\")\n",
    "plt.title(\"Distribution of Labels\")\n",
    "plt.show()"
   ]
  },
  {
   "cell_type": "markdown",
   "id": "horizontal-cement",
   "metadata": {},
   "source": [
    "Seeing the distribution of builder and owner, the clauses seem to be skewed towards the builder. However, this may be biased due to the assumption that this contract is directed to the builder, therefore with any ties in the number of occurences, this was set to being directed at the builder. This may not actually be the case. "
   ]
  },
  {
   "cell_type": "code",
   "execution_count": 303,
   "id": "fiscal-vitamin",
   "metadata": {},
   "outputs": [],
   "source": [
    "#Split into train and test sets\n",
    "X_train, X_test, y_train, y_test = train_test_split(new_df[\"sentence\"], new_df[\"label\"], test_size=0.33, random_state=42)"
   ]
  },
  {
   "cell_type": "code",
   "execution_count": 304,
   "id": "plastic-supervision",
   "metadata": {},
   "outputs": [],
   "source": [
    "# text preprocessing, remove stop words and vectorizersing using sklearn\n",
    "count_vect = CountVectorizer()\n",
    "X_train_count = count_vect.fit_transform(X_train)\n",
    "X_train_count.shape\n",
    "X_test_count = count_vect.transform(X_test)"
   ]
  },
  {
   "cell_type": "code",
   "execution_count": 305,
   "id": "dramatic-better",
   "metadata": {},
   "outputs": [],
   "source": [
    "# Apply tf transformation on train set\n",
    "tf_transformer = TfidfTransformer(use_idf=False).fit(X_train_count)\n",
    "X_train_tf = tf_transformer.transform(X_train_count)\n",
    "X_test_tf = tf_transformer.transform(X_test_count)"
   ]
  },
  {
   "cell_type": "markdown",
   "id": "complimentary-facing",
   "metadata": {},
   "source": [
    "## Training the Neural Network Classifier"
   ]
  },
  {
   "cell_type": "code",
   "execution_count": 306,
   "id": "northern-conservative",
   "metadata": {},
   "outputs": [
    {
     "name": "stdout",
     "output_type": "stream",
     "text": [
      "              precision    recall  f1-score   support\n",
      "\n",
      "     builder       0.81      1.00      0.89        55\n",
      "       owner       1.00      1.00      1.00        23\n",
      "     neither       0.00      0.00      0.00        13\n",
      "\n",
      "    accuracy                           0.86        91\n",
      "   macro avg       0.60      0.67      0.63        91\n",
      "weighted avg       0.74      0.86      0.79        91\n",
      "\n"
     ]
    },
    {
     "name": "stderr",
     "output_type": "stream",
     "text": [
      "c:\\users\\diggy\\appdata\\local\\programs\\python\\python39\\lib\\site-packages\\sklearn\\metrics\\_classification.py:1245: UndefinedMetricWarning: Precision and F-score are ill-defined and being set to 0.0 in labels with no predicted samples. Use `zero_division` parameter to control this behavior.\n",
      "  _warn_prf(average, modifier, msg_start, len(result))\n",
      "c:\\users\\diggy\\appdata\\local\\programs\\python\\python39\\lib\\site-packages\\sklearn\\metrics\\_classification.py:1245: UndefinedMetricWarning: Precision and F-score are ill-defined and being set to 0.0 in labels with no predicted samples. Use `zero_division` parameter to control this behavior.\n",
      "  _warn_prf(average, modifier, msg_start, len(result))\n",
      "c:\\users\\diggy\\appdata\\local\\programs\\python\\python39\\lib\\site-packages\\sklearn\\metrics\\_classification.py:1245: UndefinedMetricWarning: Precision and F-score are ill-defined and being set to 0.0 in labels with no predicted samples. Use `zero_division` parameter to control this behavior.\n",
      "  _warn_prf(average, modifier, msg_start, len(result))\n"
     ]
    }
   ],
   "source": [
    "# Baseline\n",
    "base =  MultinomialNB().fit(X_train_tf,y_train)\n",
    "base_pred = base.predict(X_test_tf)\n",
    "print(metrics.classification_report(y_test, base_pred, target_names=labels))"
   ]
  },
  {
   "cell_type": "code",
   "execution_count": 307,
   "id": "north-georgia",
   "metadata": {},
   "outputs": [
    {
     "name": "stdout",
     "output_type": "stream",
     "text": [
      "              precision    recall  f1-score   support\n",
      "\n",
      "     builder       0.85      0.91      0.88        55\n",
      "       owner       1.00      1.00      1.00        23\n",
      "     neither       0.44      0.31      0.36        13\n",
      "\n",
      "    accuracy                           0.85        91\n",
      "   macro avg       0.76      0.74      0.75        91\n",
      "weighted avg       0.83      0.85      0.83        91\n",
      "\n"
     ]
    }
   ],
   "source": [
    "# Neural Network\n",
    "clf = MLPClassifier(random_state=42, max_iter = 1000).fit(X_train_tf, y_train)\n",
    "predicted = clf.predict(X_test_tf)\n",
    "print(metrics.classification_report(y_test, predicted, target_names=labels))"
   ]
  },
  {
   "cell_type": "markdown",
   "id": "latter-laundry",
   "metadata": {},
   "source": [
    "From above, we can see that Neural Network is far better at classifiying the clauses than Naive Bayes. The precision of both builder and neither is higher. The averages and f1 score is also higher, signfiying a better model. However, both models suffer from overfitting when predicting owner. This is shown by the accuracy of 1.00 for both models. "
   ]
  },
  {
   "cell_type": "code",
   "execution_count": 308,
   "id": "trained-scoop",
   "metadata": {},
   "outputs": [
    {
     "data": {
      "image/png": "[encoded data removed]",
      "text/plain": [
       "<Figure size 432x288 with 2 Axes>"
      ]
     },
     "metadata": {
      "needs_background": "light"
     },
     "output_type": "display_data"
    }
   ],
   "source": [
    "# Visualise Confusion Matrix\n",
    "cm = confusion_matrix(y_test, predicted, labels=labels)\n",
    "disp = ConfusionMatrixDisplay(confusion_matrix=cm, display_labels=labels)\n",
    "disp.plot()\n",
    "plt.show()"
   ]
  },
  {
   "cell_type": "markdown",
   "id": "cleared-north",
   "metadata": {},
   "source": [
    "From the confusion matrix, we can see that the classifier has trouble predicted the owner label more than the builder. This can be easily attributed to the skewed data distribution for the labels. If the labels were more balanced and there was more data, it is likely that the model will peform better."
   ]
  }
 ],
 "metadata": {
  "kernelspec": {
   "display_name": "Python 3",
   "language": "python",
   "name": "python3"
  },
  "language_info": {
   "codemirror_mode": {
    "name": "ipython",
    "version": 3
   },
   "file_extension": ".py",
   "mimetype": "text/x-python",
   "name": "python",
   "nbconvert_exporter": "python",
   "pygments_lexer": "ipython3",
   "version": "3.9.2"
  }
 },
 "nbformat": 4,
 "nbformat_minor": 5
}
